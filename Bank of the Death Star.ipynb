{
 "cells": [
  {
   "cell_type": "code",
   "execution_count": 156,
   "id": "589fca92",
   "metadata": {},
   "outputs": [],
   "source": [
    "import pandas as pd\n",
    "import math\n",
    "client = \"Bank of the Death Star\" #change that as needed\n",
    "input=r\"C:\\Users\\CB_ll\\AppData\\Local\\Programs\\Inputs\\Bank_of_the_Death_Star_Submission_11312026 - Sheet1.csv\"\n",
    "output=r\"C:\\Users\\CB_ll\\AppData\\Local\\Programs\\Inputs\\result_Bank_of_the_Death_Star.csv\"\n"
   ]
  },
  {
   "cell_type": "code",
   "execution_count": 157,
   "id": "3489ee90",
   "metadata": {},
   "outputs": [
    {
     "name": "stderr",
     "output_type": "stream",
     "text": [
      "C:\\Users\\CB_ll\\AppData\\Local\\Temp\\ipykernel_23608\\2419970835.py:1: FutureWarning: In a future version of pandas all arguments of read_csv except for the argument 'filepath_or_buffer' will be keyword-only.\n",
      "  quotes = pd.read_csv(input,',')\n"
     ]
    }
   ],
   "source": [
    "quotes = pd.read_csv(input,',')\n",
    "template=pd.DataFrame(columns=[\"snap_date\",\"client\",\"instrument_type\",\"leg2_currency\",\"leg2_fixing\",\"leg2_day_count\",\"leg2_payment_frequency\",\"option_tenor\",\"swap_tenor\",\"relative_strike\",\"discount\",\"absolute_strike\",\"fwd_premium\"])"
   ]
  },
  {
   "cell_type": "code",
   "execution_count": 158,
   "id": "644e71a8",
   "metadata": {},
   "outputs": [],
   "source": [
    "def convert_to_template (string):\n",
    "    split_list = string.split()\n",
    "    currency= split_list[0]\n",
    "    if split_list[3]=='SONIA':\n",
    "        fixing=\"GBP-SONIA\"\n",
    "        day_count=\"Act/365\"\n",
    "        payment_frequency=\"Annually\"\n",
    "        discount=\"GBP-SONIA\"\n",
    "        #TODO: use a lookup file/expand the if clause to use different fixings/daycount/payfreq if needed for EURIBOR ones\n",
    "    \n",
    "    #this part to extract the strike and the direction\n",
    "    if (split_list[4].rfind(\"R\")>=0):\n",
    "        instrument_type=\"Swaption Receiver\"\n",
    "        if (split_list[4].find(\"+0\")>=0):\n",
    "            relative_strike=\"ATM\"\n",
    "        elif (split_list[4].find(\"-0\")>=0):#there is no -0 in the data but just in case\n",
    "            relative_strike=\"ATM\"\n",
    "        else:    \n",
    "            relative_strike=-float(split_list[4].split('-')[1])\n",
    "    else:\n",
    "        instrument_type=\"Swaption Payer\"\n",
    "        if (split_list[4].find(\"+0\")>=0):\n",
    "            relative_strike=\"ATM\"\n",
    "        elif (split_list[4].find(\"-0\")>=0):#there is no -0 in the data but just in case\n",
    "            relative_strike=\"ATM\"\n",
    "        else:\n",
    "            relative_strike=float(split_list[4].split('+')[1])\n",
    "            \n",
    "    #this part to extract the option tenor - checks if the first part has 2 numeric characters - if yes then we know the option tenor is of the form xx months or xx years, and if not it's x months or x years (only works for less than 100 years)\n",
    "    if (split_list[2][:2].isnumeric()):\n",
    "        option_tenor=split_list[2][:3]\n",
    "    else:\n",
    "        option_tenor=split_list[2][:2]\n",
    "        \n",
    "    #this part to extract the swap tenor, if the character at place -3 in the string is a letter then option tenor is only 2 chars long, otherwise 3 chars (only works for less than 100 years)\n",
    "    if (split_list[2][-3].isnumeric()):\n",
    "        swap_tenor=split_list[2][-3:]\n",
    "    else:\n",
    "        swap_tenor=split_list[2][-2:]\n",
    "        \n",
    "    #result of the function\n",
    "    parameters_list=[instrument_type,currency,fixing,day_count,payment_frequency,option_tenor,swap_tenor,relative_strike,discount]\n",
    "    return parameters_list\n",
    "    \n",
    "    \n",
    "#convert_to_template(quotes.loc[3166].at[\"Trade\"])"
   ]
  },
  {
   "cell_type": "code",
   "execution_count": 160,
   "id": "270e409a",
   "metadata": {},
   "outputs": [],
   "source": [
    "for index in range(len(quotes)):\n",
    "    #get info from input file\n",
    "    date=quotes.loc[index].at[\"Date\"]\n",
    "    premium=float(quotes.loc[index].at[\"Premium\"])\n",
    "    rate=float(quotes.loc[index].at[\"Forward\"])\n",
    "    \n",
    "    #get the info from the trade data composite string (\"trade\" column in input file)\n",
    "    parameters_list=convert_to_template(quotes.loc[index].at[\"Trade\"])\n",
    "    if parameters_list[7]=='ATM':\n",
    "        relative_strike=0\n",
    "    else:\n",
    "        relative_strike= float(parameters_list[7])\n",
    "    \n",
    "    #computing absolute strike\n",
    "    absolute_strike= rate+relative_strike/10000  \n",
    "    \n",
    "    #computing forward premium assuming there will be no tenor <1y, if there is put an if clause and split the string on \"M\"\n",
    "    tenor=float(parameters_list[6].split('Y')[0])\n",
    "    forward_premium=premium*math.exp(rate*tenor)\n",
    "    \n",
    "    #adding the relevant elements to the parameters list and then adding the list to the template\n",
    "    parameters_list.insert(0,client)\n",
    "    parameters_list.insert(0,date)\n",
    "    parameters_list.append(absolute_strike)\n",
    "    parameters_list.append(forward_premium)\n",
    "    \n",
    "    template.loc[index]=parameters_list\n",
    "    \n",
    "#print(template)"
   ]
  },
  {
   "cell_type": "code",
   "execution_count": 161,
   "id": "298c6a8f",
   "metadata": {},
   "outputs": [],
   "source": [
    "template.to_csv(output,index=False)"
   ]
  },
  {
   "cell_type": "code",
   "execution_count": null,
   "id": "28f6931b",
   "metadata": {},
   "outputs": [],
   "source": []
  }
 ],
 "metadata": {
  "kernelspec": {
   "display_name": "Python 3 (ipykernel)",
   "language": "python",
   "name": "python3"
  },
  "language_info": {
   "codemirror_mode": {
    "name": "ipython",
    "version": 3
   },
   "file_extension": ".py",
   "mimetype": "text/x-python",
   "name": "python",
   "nbconvert_exporter": "python",
   "pygments_lexer": "ipython3",
   "version": "3.11.1"
  }
 },
 "nbformat": 4,
 "nbformat_minor": 5
}
